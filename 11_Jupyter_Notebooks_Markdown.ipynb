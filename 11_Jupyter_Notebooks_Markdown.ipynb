{
 "cells": [
  {
   "cell_type": "markdown",
   "metadata": {},
   "source": [
    "<div class=\"alert alert-block alert-info\">\n",
    "Author:<br>Felix Gonzalez, P.E. <br> Adjunct Instructor, <br> Division of Professional Studies <br> Computer Science and Electrical Engineering <br> University of Maryland Baltimore County <br> fgonzale@umbc.edu\n",
    "</div>"
   ]
  },
  {
   "cell_type": "markdown",
   "metadata": {
    "id": "70pYkR9LiOV0"
   },
   "source": [
    "# What is Markdown?\n",
    "\n",
    "By now we have seen that Jupyter Notebooks have two types of cells: text and code. Text cells are formatted using a simple markup language called \"Markdown\".\n",
    "\n",
    "To see the Markdown source, double-click a text cell, showing both the Markdown source and the rendered version. You can select the type of cell in the toolbar. Alternatively, you can change it in the Menu Options => Cell => Cell Type"
   ]
  },
  {
   "cell_type": "markdown",
   "metadata": {},
   "source": []
  },
  {
   "cell_type": "markdown",
   "metadata": {},
   "source": [
    "# Table of Contents\n",
    "Table of contents is defined as links within the headings and needs to be done manually.\n",
    "\n",
    "[Headings](#Headings)\n",
    "[](#)\n",
    "[](#)\n",
    "[](#)\n",
    "\n",
    "<a href='#Headings'>Headings</a>\n",
    "\n",
    "Both of examples above will take you to the \"Headings\" section.\n",
    "\n",
    "[References](#References)\n",
    "\n",
    "[Lists](#Lists)\n",
    "\n",
    "- [Equations](#Equations)\n",
    "\n",
    "- [Tables](#Tables)\n",
    "\n",
    "[Useful references](#Useful-references)"
   ]
  },
  {
   "cell_type": "markdown",
   "metadata": {},
   "source": [
    "# Headings\n",
    "[Return to Table of Contents](#Table-of-Contents)\n",
    "\n",
    "---\n",
    "Headings are rendered as titles.\n",
    "\n",
    "```markdown\n",
    "# Section 1\n",
    "# Section 2\n",
    "## Sub-section under Section 2\n",
    "### Sub-section under the sub-section under Section 2\n",
    "# Section 3\n",
    "```\n",
    "\n",
    "# Section 1\n",
    "# Section 2\n",
    "## Sub-section under Section 2\n",
    "### Sub-section under the sub-section under Section 2\n",
    "# Section 3"
   ]
  },
  {
   "cell_type": "markdown",
   "metadata": {},
   "source": [
    "# References\n",
    "[Return to Table of Contents](#Table-of-Contents)\n",
    "\n",
    "Markdown | Preview\n",
    "--- | ---\n",
    "`**bold text**` | **bold text**\n",
    "`*italicized text*` or `_italicized text_` | *italicized text*\n",
    "`` `Monospace` `` | `Monospace`\n",
    "`~~strikethrough~~` | ~~strikethrough~~\n",
    "`[A link](https://www.google.com)` | [A link](https://www.google.com)\n",
    "`![An image](https://www.google.com/images/rss.png)` | ![An image](https://www.google.com/images/rss.png)"
   ]
  },
  {
   "cell_type": "markdown",
   "metadata": {},
   "source": [
    "The table of contents, available on the left side of Colab, is populated using at most one section title from each text cell.\n",
    "\n",
    "---\n",
    "\n",
    "```markdown\n",
    ">One level of indentation\n",
    "```\n",
    "\n",
    ">One level of indentation\n",
    "\n",
    "\n",
    "```markdown\n",
    ">>Two levels of indentation\n",
    "```\n",
    "\n",
    ">>Two levels of indentation\n",
    "\n",
    "---\n",
    "\n",
    "Code blocks\n",
    "\n",
    "````\n",
    "```python\n",
    "print(\"a\")\n",
    "```\n",
    "````\n",
    "\n",
    "```python\n",
    "print(\"a\")\n",
    "```"
   ]
  },
  {
   "cell_type": "markdown",
   "metadata": {},
   "source": [
    "# Lists\n",
    "[Return to Table of Contents](#Table-of-Contents)\n",
    "\n",
    "Ordered lists:\n",
    "```markdown\n",
    "1. One\n",
    "1. Two\n",
    "1. Three\n",
    "```\n",
    "1. One\n",
    "1. Two\n",
    "1. Three\n",
    "\n",
    "---\n",
    "\n",
    "Unordered lists:\n",
    "```markdown\n",
    "* One\n",
    "* Two\n",
    "* Three\n",
    "```\n",
    "* One\n",
    "* Two\n",
    "* Three\n",
    "\n",
    "```markdown\n",
    "- One\n",
    "- Two\n",
    "- Three\n",
    "```\n",
    "- One\n",
    "    - Example Dollar ($) Two\n",
    "- Three Dollar example"
   ]
  },
  {
   "cell_type": "markdown",
   "metadata": {
    "id": "Lhfnlq1Surtk"
   },
   "source": [
    "# Equations\n",
    "[Return to Table of Contents](#Table-of-Contents)\n",
    "\n",
    "```markdown\n",
    "$y=x^2$\n",
    "\n",
    "$e^{i\\pi} + 1 = 0$\n",
    "\n",
    "$e^x=\\sum_{i=0}^\\infty \\frac{1}{i!}x^i$\n",
    "\n",
    "$\\frac{n!}{k!(n-k)!} = {n \\choose k}$\n",
    "\n",
    "$A_{m,n} =\n",
    " \\begin{pmatrix}\n",
    "  a_{1,1} & a_{1,2} & \\cdots & a_{1,n} \\\\\n",
    "  a_{2,1} & a_{2,2} & \\cdots & a_{2,n} \\\\\n",
    "  \\vdots  & \\vdots  & \\ddots & \\vdots  \\\\\n",
    "  a_{m,1} & a_{m,2} & \\cdots & a_{m,n}\n",
    " \\end{pmatrix}$\n",
    "```\n",
    "\n",
    "$y=x^2$\n",
    "\n",
    "$e^{i\\pi} + 1 = 0$\n",
    "\n",
    "$e^x=\\sum_{i=0}^\\infty \\frac{1}{i!}x^i$\n",
    "\n",
    "$\\frac{n!}{k!(n-k)!} = {n \\choose k}$\n",
    "\n",
    "$A_{m,n} =\n",
    " \\begin{pmatrix}\n",
    "  a_{1,1} & a_{1,2} & \\cdots & a_{1,n} \\\\\n",
    "  a_{2,1} & a_{2,2} & \\cdots & a_{2,n} \\\\\n",
    "  \\vdots  & \\vdots  & \\ddots & \\vdots  \\\\\n",
    "  a_{m,1} & a_{m,2} & \\cdots & a_{m,n}\n",
    " \\end{pmatrix}$"
   ]
  },
  {
   "cell_type": "markdown",
   "metadata": {},
   "source": [
    "# Tables\n",
    "[Return to Table of Contents](#Table-of-Contents)\n",
    "\n",
    "\n",
    "```markdown\n",
    "First column name  | Second column name \n",
    "-------------------|------------------\n",
    "Row 1, Col 1       | Row 1, Col 2 \n",
    "Row 2, Col 1       | Row 2, Col 2 \n",
    "\n",
    "```\n",
    "\n",
    "First column name  | Second column name \n",
    "-------------------|------------------\n",
    "Row 1, Col 1       | Row 1, Col 2 \n",
    "Row 2, Col 1       | Row 2, Col 2 \n",
    "\n",
    "---"
   ]
  },
  {
   "cell_type": "markdown",
   "metadata": {},
   "source": [
    "# Message Color Blocks"
   ]
  },
  {
   "cell_type": "markdown",
   "metadata": {},
   "source": [
    "<div class=\"alert alert-block alert-info\">\n",
    "Author:<br>Felix Gonzalez, P.E. <br> Adjunct Instructor, <br> Division of Professional Studies <br> Computer Science and Electrical Engineering <br> University of Maryland Baltimore County <br> fgonzale@umbc.edu\n",
    "</div>"
   ]
  },
  {
   "cell_type": "markdown",
   "metadata": {},
   "source": [
    "<div class=\"alert alert-block alert-danger\">\n",
    "<b>Warning!</b> Warning message for major issues (e.g., data loss).\n",
    "</div>"
   ]
  },
  {
   "attachments": {},
   "cell_type": "markdown",
   "metadata": {},
   "source": [
    "# Figure and Pictures\n",
    "Jupyter notebooks allow to drag and drop figures and pictures into a markdown cell."
   ]
  },
  {
   "cell_type": "code",
   "execution_count": null,
   "metadata": {},
   "outputs": [],
   "source": []
  },
  {
   "cell_type": "markdown",
   "metadata": {
    "id": "w86a4I4fmkvD"
   },
   "source": [
    "## Differences between Colab Markdown and other Markdown dialects\n",
    "\n",
    "Colab uses [marked.js](https://github.com/chjj/marked).  Is similar but not quite identical to the Markdown used by Jupyter and Github.\n",
    "\n",
    "Colab supports (MathJax) $\\LaTeX$ equations like Jupyter, but does not allow HTML tags in the Markdown. Colab does not support some GitHub additions like emojis and to-do checkboxes.\n",
    "\n",
    "If magic commands need to be included in a Colab notebook, see the [IPython Magic Commands Google Documentation](https://colab.research.google.com/github/jdwittenauer/ipython-notebooks/blob/master/notebooks/language/IPythonMagic.ipynb)."
   ]
  },
  {
   "cell_type": "markdown",
   "metadata": {
    "id": "uSx6SUb1Komv"
   },
   "source": [
    "# Useful references\n",
    "[Return to Table of Contents](#Table-of-Contents)"
   ]
  },
  {
   "cell_type": "markdown",
   "metadata": {
    "id": "5Y3CStVkLxqt"
   },
   "source": [
    "* [Jupyter Notebook Documentation](https://jupyter-notebook.readthedocs.io/en/stable/examples/Notebook/Working%20With%20Markdown%20Cells.html)\n",
    "* [Github Markdown basics](https://help.github.com/articles/markdown-basics/)\n",
    "* [Github flavored Markdown](https://help.github.com/articles/github-flavored-markdown/)\n",
    "* [Original Markdown spec: Syntax](http://daringfireball.net/projects/markdown/syntax)\n",
    "* [Original Markdown spec: Basics](http://daringfireball.net/projects/markdown/basics)\n",
    "* [marked.js library used by Colab](https://github.com/chjj/marked)\n",
    "* [LaTex mathematics for equations](https://en.wikibooks.org/wiki/LaTeX/Mathematics)\n",
    "* [IBM Jupyter Notebook Markdown Cheatsheet](https://www.ibm.com/docs/en/watson-studio-local/1.2.3?topic=notebooks-markdown-jupyter-cheatsheet)\n"
   ]
  },
  {
   "cell_type": "markdown",
   "metadata": {},
   "source": [
    "# Notebook End"
   ]
  },
  {
   "cell_type": "code",
   "execution_count": null,
   "metadata": {},
   "outputs": [],
   "source": []
  },
  {
   "cell_type": "code",
   "execution_count": null,
   "metadata": {},
   "outputs": [],
   "source": []
  },
  {
   "cell_type": "code",
   "execution_count": null,
   "metadata": {},
   "outputs": [],
   "source": []
  }
 ],
 "metadata": {
  "colab": {
   "collapsed_sections": [],
   "include_colab_link": true,
   "name": "Markdown Guide",
   "provenance": []
  },
  "kernelspec": {
   "display_name": "Python 3 (ipykernel)",
   "language": "python",
   "name": "python3"
  },
  "language_info": {
   "codemirror_mode": {
    "name": "ipython",
    "version": 3
   },
   "file_extension": ".py",
   "mimetype": "text/x-python",
   "name": "python",
   "nbconvert_exporter": "python",
   "pygments_lexer": "ipython3",
   "version": "3.12.4"
  }
 },
 "nbformat": 4,
 "nbformat_minor": 4
}
