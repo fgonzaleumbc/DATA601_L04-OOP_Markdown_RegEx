{
 "cells": [
  {
   "cell_type": "markdown",
   "id": "1bcf4eb3",
   "metadata": {},
   "source": [
    "<div class=\"alert alert-block alert-info\">\n",
    "Author:<br>Felix Gonzalez, P.E. <br> Adjunct Instructor, <br> Division of Professional Studies <br> Computer Science and Electrical Engineering <br> University of Maryland Baltimore County <br> fgonzale@umbc.edu\n",
    "</div>"
   ]
  },
  {
   "cell_type": "markdown",
   "id": "8af37566",
   "metadata": {},
   "source": [
    "In data sciences there are multiple tasks that may require working with text or strings. In data science text data includes both structured and unstructured data. Examples include,\n",
    "- File names (may be in various formats)\n",
    "- Text data may be found in various data collections (e.g., variables, lists, tuples, sets, dictionaries, dataframes, tables, etc.) \n",
    "- Magic method functions that contain two underscosrs before and after the function (e.g., __ contains__)\n",
    "- Parsing/extracting text data from webpages, documents, reports, and other files that include text data.\n",
    "- Natural langauge processing (NLP) models\n",
    "There are various ways of working with text data as well as reasons to work with text data. In previous notebooks it was shows various methods of workign with string data when using lists. This notebook will discuss other functions to work with text data as well as discusses Regular Expressions (RegEx). \n",
    "\n",
    "RegEx are text matching patterns described with a formal syntax. They can include a variety of rules, for finding repetition, text-matching, data-crawling, and file-naming and  more. As you advance in Python you'll see that a lot of your parsing problems can be solved with regular expressions.\n",
    "\n",
    "Documentation References:\n",
    "\n",
    "- https://docs.python.org/3/library/stdtypes.html#string-methods\n",
    "- https://docs.python.org/3/library/string.html\n",
    "- https://docs.python.org/3/library/re.html"
   ]
  },
  {
   "cell_type": "markdown",
   "id": "9f4a4ae6",
   "metadata": {},
   "source": [
    "# Table of Contents\n",
    "[Strings and String Operations](#Strings-and-String-Operations)\n",
    "\n",
    "[Finding String Patterns: Common Functions](#Finding-String-Patterns:-Common-Functions)\n",
    "\n",
    "[Regular Rexpressions (RegEx or Re)](#Regular-Rexpressions-(RegEx-or-Re))\n",
    "\n",
    "[Re: Construction Basics](#Re:-Construction-Basics)\n",
    "\n",
    "[Re: Functions](#Re:-Functions)\n",
    "\n",
    "[Re: Character Classes](#Re:-Character-Classes)\n",
    "\n",
    "[Re: Creating Objects](#Re:-Creating-Objects)\n",
    "\n",
    "[Re: Grouping - Use of \"()\"](#Re:-Grouping---Use-of-\"()\")\n",
    "\n",
    "[Re: Matching Alternatives](#Re:-Matching-Alternatives)\n",
    "\n",
    "[Re: Matching zero or one - Use of \"?\" symbol](#Re:-Matching-zero-or-one---Use-of-\"?\"-symbol)\n",
    "\n",
    "[Matching zero or more - Use of \"*\" symbol](#Matching-zero-or-more---Use-of-\"*\"-symbol)\n",
    "\n",
    "[Re: Match One or More](#Re:-Match-One-or-More)\n",
    "\n",
    "[Re: Matching a Fixed Amount of Repeats - use of \"{}\"](#Re:-Matching-a-Fixed-Amount-of-Repeats---use-of-\"{}\")\n",
    "\n",
    "[Re: Matching Start/End - use of Caret and dollar symbols](#Re:-Matching-Start/End---use-of-Caret-and-dollar-symbols)\n",
    "\n",
    "[Re: Flags: Case Insensitive](#Re:-Flags:-Case-Insensitive)\n",
    "\n",
    "[Re: Split Function](#Re:-Split-Function)\n",
    "\n",
    "[Re: Complex String](#Re:-Complex-String)"
   ]
  },
  {
   "cell_type": "markdown",
   "id": "f1da6656",
   "metadata": {},
   "source": [
    "# Strings and String Operations\n",
    "[Return to Table of Contents](#Table-of-Contents)\n",
    "\n",
    "There are numerous string methods and functions that can be used to work with strings. Most used in data science include:\n",
    "- counting characters or words (e.g., len and count functions)\n",
    "- formatting (e.g., lower, upper, and format functions), \n",
    "- removing or replacing strings or substrings (e.g., strip, rstrip, lstrip and replace functions),\n",
    "- splitting and joining (e.g., split and join functions)\n",
    "- finding string patterns (e.g., in, is in, notin, endswith, find, etc.)\n",
    "\n",
    "Other techniques include RegEx and other functions found in other libraries such as the Pandas contain function. Triple quotes allow to break a sentence in multiple lines.\n",
    "\n",
    "* Python raw string is created by prefixing a string literal with ‘r’ or ‘R’. \n",
    "* Python raw string treats backslash (\\\\) as a literal character. \n",
    "* This is useful when we want to have a string that contains backslash and don’t want it to be treated as an escape character.\n",
    "\n",
    "Documentation Reference:\n",
    "- https://docs.python.org/3/library/stdtypes.html#string-methods\n",
    "- https://docs.python.org/3/library/string.html\n",
    "- [More on join method](https://www.w3schools.com/python/ref_string_join.asp)\n",
    "- [Follow Chapter 6 from Automate-the-boring-stuff-with-python](https://automatetheboringstuff.com/)\n",
    "- [W3-School String Methods](https://www.w3schools.com/python/python_ref_string.asp)\n",
    "- [AnalyticsVidhya Magic Methods](https://www.analyticsvidhya.com/blog/2021/08/explore-the-magic-methods-in-python/)"
   ]
  },
  {
   "cell_type": "markdown",
   "id": "e9d4255a",
   "metadata": {},
   "source": [
    "#### Output String Formatting\n",
    "\n",
    "Python allows fancier formatting on the output. (https://docs.python.org/3/tutorial/inputoutput.html)."
   ]
  },
  {
   "cell_type": "code",
   "execution_count": 1,
   "id": "53bdba8e",
   "metadata": {},
   "outputs": [
    {
     "data": {
      "text/plain": [
       "'123,        789 YES votes  13.52%'"
      ]
     },
     "execution_count": 1,
     "metadata": {},
     "output_type": "execute_result"
    }
   ],
   "source": [
    "# Format can be used with numbers.\n",
    "# The :-10 adds ten spaces.\n",
    "# The 2.2% moves the period two spaces to the right and two decimal places.\n",
    "# Brackets will show the variables within the format in the same order.\n",
    "'{}, {:-10} YES votes  {:2.2%}'.format(123, 789, 0.135234)\n",
    "# This also works with variable names if replacing the numbers within the format function."
   ]
  },
  {
   "cell_type": "code",
   "execution_count": 4,
   "id": "c041fefc",
   "metadata": {},
   "outputs": [
    {
     "name": "stdout",
     "output_type": "stream",
     "text": [
      "This is my percentage 13.5%\n",
      "0.135234\n"
     ]
    }
   ],
   "source": [
    "my_percentage = 0.135234\n",
    "print('This is my percentage {:2.1%}'.format(my_percentage))\n",
    "# The format does not affect the veriable value.\n",
    "print(my_percentage)"
   ]
  },
  {
   "cell_type": "code",
   "execution_count": 5,
   "id": "b15ac712",
   "metadata": {},
   "outputs": [
    {
     "data": {
      "text/plain": [
       "'We are students at \"UMBC!\"'"
      ]
     },
     "execution_count": 5,
     "metadata": {},
     "output_type": "execute_result"
    }
   ],
   "source": [
    "# Works also with strings.\n",
    "'We are {} at \"{}!\"'.format('students', 'UMBC')"
   ]
  },
  {
   "cell_type": "code",
   "execution_count": 6,
   "id": "270ae8e2",
   "metadata": {},
   "outputs": [
    {
     "data": {
      "text/plain": [
       "str"
      ]
     },
     "execution_count": 6,
     "metadata": {},
     "output_type": "execute_result"
    }
   ],
   "source": [
    "# We can define \n",
    "my_sentence = 'We are {} at \"{}!\"'.format('students', 'UMBC')\n",
    "# Checking the type\n",
    "type(my_sentence)"
   ]
  },
  {
   "cell_type": "code",
   "execution_count": 7,
   "id": "5bb978f0",
   "metadata": {},
   "outputs": [
    {
     "data": {
      "text/plain": [
       "str"
      ]
     },
     "execution_count": 7,
     "metadata": {},
     "output_type": "execute_result"
    }
   ],
   "source": [
    "# Recall that we can also change the data type with functions str()\n",
    "my_percantage_as_string = str(my_percentage)\n",
    "type(my_percantage_as_string)"
   ]
  },
  {
   "cell_type": "markdown",
   "id": "2e368df0",
   "metadata": {},
   "source": [
    "#### Single and Double Quotes"
   ]
  },
  {
   "cell_type": "markdown",
   "id": "671abf54",
   "metadata": {},
   "source": [
    "Recall that in Python you can use single quotes or double quotes however if a string has single quotes you will need to use the double quotes and vice versa when using the print function. Similar behavior occurs with the use of /n. "
   ]
  },
  {
   "cell_type": "code",
   "execution_count": 8,
   "id": "24b83302",
   "metadata": {},
   "outputs": [
    {
     "data": {
      "text/plain": [
       "'University of \\nMaryland Baltimore\\n\\nCounty\\nUniversities at Shady Grove      '"
      ]
     },
     "execution_count": 8,
     "metadata": {},
     "output_type": "execute_result"
    }
   ],
   "source": [
    "# We have the following String in the variable sentence:\n",
    "sentence1 = '''University of \n",
    "Maryland Baltimore\n",
    "\n",
    "County\\nUniversities at Shady Grove      '''\n",
    "sentence1 # Note that the /n appears when calling the variable."
   ]
  },
  {
   "cell_type": "code",
   "execution_count": 9,
   "id": "a853e570",
   "metadata": {},
   "outputs": [
    {
     "name": "stdout",
     "output_type": "stream",
     "text": [
      "University of \n",
      "Maryland Baltimore\n",
      "\n",
      "County\n",
      "Universities at Shady Grove      \n"
     ]
    }
   ],
   "source": [
    "print(sentence1)"
   ]
  },
  {
   "cell_type": "markdown",
   "id": "7505985e",
   "metadata": {},
   "source": [
    "#### Raw String Literals"
   ]
  },
  {
   "cell_type": "markdown",
   "id": "be1d4b3b",
   "metadata": {},
   "source": [
    "Raw string literals are string literals that are designed to make it easier to include nested characters like quotation marks and backslashes that normally have meanings as delimiters and escape sequence starts. "
   ]
  },
  {
   "cell_type": "code",
   "execution_count": 10,
   "id": "d4e54be6",
   "metadata": {},
   "outputs": [
    {
     "name": "stdout",
     "output_type": "stream",
     "text": [
      "University of \n",
      "Maryland Baltimore\n",
      "\n",
      "County\\nUniversities at Shady Grove      \n"
     ]
    }
   ],
   "source": [
    "# Let's redefine the sentence as a raw string.\n",
    "sentence2 = r'''University of \n",
    "Maryland Baltimore\n",
    "\n",
    "County\\nUniversities at Shady Grove      '''\n",
    "print(sentence2) # Note that the /n is printed but the raw string still uses the non-/n spaces"
   ]
  },
  {
   "cell_type": "markdown",
   "id": "1f88c0b6",
   "metadata": {},
   "source": [
    "#### String Operations"
   ]
  },
  {
   "cell_type": "code",
   "execution_count": 11,
   "id": "612c56e2",
   "metadata": {},
   "outputs": [
    {
     "data": {
      "text/plain": [
       "'University of Maryland Baltimore County\\nUniversities at Shady Grove      '"
      ]
     },
     "execution_count": 11,
     "metadata": {},
     "output_type": "execute_result"
    }
   ],
   "source": [
    "# Let's redefine the sentence without the multiple spaces.\n",
    "sentence = 'University of Maryland Baltimore County\\nUniversities at Shady Grove      '\n",
    "sentence"
   ]
  },
  {
   "cell_type": "code",
   "execution_count": 12,
   "id": "d3b1a084",
   "metadata": {},
   "outputs": [
    {
     "data": {
      "text/plain": [
       "73"
      ]
     },
     "execution_count": 12,
     "metadata": {},
     "output_type": "execute_result"
    }
   ],
   "source": [
    "len(sentence) # Count number of characters "
   ]
  },
  {
   "cell_type": "code",
   "execution_count": 13,
   "id": "3ca26785",
   "metadata": {},
   "outputs": [
    {
     "name": "stdout",
     "output_type": "stream",
     "text": [
      "University of Maryland Baltimore County\n",
      "Universities at Shady Grove      \n"
     ]
    }
   ],
   "source": [
    "print(sentence) # Note that the characters forward slash and n (\\n) when invoked in the print function enters a space."
   ]
  },
  {
   "cell_type": "code",
   "execution_count": 14,
   "id": "940e8184",
   "metadata": {},
   "outputs": [
    {
     "data": {
      "text/plain": [
       "'University of Maryland Baltimore County Universities at Shady Grove      '"
      ]
     },
     "execution_count": 14,
     "metadata": {},
     "output_type": "execute_result"
    }
   ],
   "source": [
    "sentence = sentence.replace('\\n', ' ') # Replaces the \\n for a space\n",
    "sentence"
   ]
  },
  {
   "cell_type": "code",
   "execution_count": 15,
   "id": "65804d31",
   "metadata": {},
   "outputs": [
    {
     "data": {
      "text/plain": [
       "'university of maryland baltimore county universities at shady grove      '"
      ]
     },
     "execution_count": 15,
     "metadata": {},
     "output_type": "execute_result"
    }
   ],
   "source": [
    "sentence.lower() # Makes every character lower case"
   ]
  },
  {
   "cell_type": "code",
   "execution_count": 16,
   "id": "b8e0d60e",
   "metadata": {},
   "outputs": [
    {
     "data": {
      "text/plain": [
       "'UNIVERSITY OF MARYLAND BALTIMORE COUNTY UNIVERSITIES AT SHADY GROVE      '"
      ]
     },
     "execution_count": 16,
     "metadata": {},
     "output_type": "execute_result"
    }
   ],
   "source": [
    "sentence.upper() # Makes every character upper case"
   ]
  },
  {
   "cell_type": "code",
   "execution_count": 17,
   "id": "200b83a0",
   "metadata": {},
   "outputs": [
    {
     "data": {
      "text/plain": [
       "'University of Maryland Baltimore County Universities at Shady Grove'"
      ]
     },
     "execution_count": 17,
     "metadata": {},
     "output_type": "execute_result"
    }
   ],
   "source": [
    "# Removes leading and trailing spaces in a string.\n",
    "sentence = sentence.strip()\n",
    "sentence"
   ]
  },
  {
   "cell_type": "code",
   "execution_count": 18,
   "id": "c8ad6484",
   "metadata": {},
   "outputs": [
    {
     "data": {
      "text/plain": [
       "67"
      ]
     },
     "execution_count": 18,
     "metadata": {},
     "output_type": "execute_result"
    }
   ],
   "source": [
    "len(sentence) # Count number of characters after striping of spaces at the end.\n",
    "# Number of characters went from 73 total to 67."
   ]
  },
  {
   "cell_type": "code",
   "execution_count": 19,
   "id": "5f0bfabb",
   "metadata": {},
   "outputs": [
    {
     "data": {
      "text/plain": [
       "1"
      ]
     },
     "execution_count": 19,
     "metadata": {},
     "output_type": "execute_result"
    }
   ],
   "source": [
    "sentence.lower().count('UNIversity'.lower()) # Counts the word university. \n",
    "# Note applying lower case before counting.\n",
    "# In the natural language processing we will learn about lemmatization and stemming.\n",
    "# These are techniques that simplify a word to a simpler form such as its base or root.\n",
    "# In the case above when applying stemming or lemmatization the words university and universities \n",
    "# can be adjusted to be count together as they belong to the same root."
   ]
  },
  {
   "cell_type": "code",
   "execution_count": 20,
   "id": "850eb471",
   "metadata": {},
   "outputs": [
    {
     "data": {
      "text/plain": [
       "'riyo ayadBlioeCut nvriisa hd rv'"
      ]
     },
     "execution_count": 20,
     "metadata": {},
     "output_type": "execute_result"
    }
   ],
   "source": [
    "sentence[5::2] # Starting in character position 5 select and select every other character. "
   ]
  },
  {
   "cell_type": "code",
   "execution_count": 21,
   "id": "b4c62963",
   "metadata": {},
   "outputs": [
    {
     "data": {
      "text/plain": [
       "['University',\n",
       " 'of',\n",
       " 'Maryland',\n",
       " 'Baltimore',\n",
       " 'County',\n",
       " 'Universities',\n",
       " 'at',\n",
       " 'Shady',\n",
       " 'Grove']"
      ]
     },
     "execution_count": 21,
     "metadata": {},
     "output_type": "execute_result"
    }
   ],
   "source": [
    "sentence_list_of_words = sentence.split(' ') # Splits the sentence using the space separator\n",
    "sentence_list_of_words"
   ]
  },
  {
   "cell_type": "code",
   "execution_count": 22,
   "id": "e362fefa",
   "metadata": {},
   "outputs": [
    {
     "data": {
      "text/plain": [
       "9"
      ]
     },
     "execution_count": 22,
     "metadata": {},
     "output_type": "execute_result"
    }
   ],
   "source": [
    "len(sentence_list_of_words) # Number of words in sentence"
   ]
  },
  {
   "cell_type": "code",
   "execution_count": 23,
   "id": "cc79e0db",
   "metadata": {},
   "outputs": [
    {
     "data": {
      "text/plain": [
       "'University of Maryland Baltimore County Universities at Shady Grove'"
      ]
     },
     "execution_count": 23,
     "metadata": {},
     "output_type": "execute_result"
    }
   ],
   "source": [
    "' '.join(sentence_list_of_words) # Joins elements of list and adds a space."
   ]
  },
  {
   "cell_type": "markdown",
   "id": "84c67793",
   "metadata": {},
   "source": [
    "# Finding String Patterns: Common Functions\n",
    "[Return to Table of Contents](#Table-of-Contents)\n",
    "\n",
    "Many of the functions to find string patterns return a boolean (True/False) and check if one string or substring is within another string."
   ]
  },
  {
   "cell_type": "code",
   "execution_count": 24,
   "id": "69edd6d2",
   "metadata": {},
   "outputs": [
    {
     "data": {
      "text/plain": [
       "'University of Maryland Baltimore County Universities at Shady Grove'"
      ]
     },
     "execution_count": 24,
     "metadata": {},
     "output_type": "execute_result"
    }
   ],
   "source": [
    "sentence"
   ]
  },
  {
   "cell_type": "code",
   "execution_count": 25,
   "id": "5b5d5926",
   "metadata": {},
   "outputs": [
    {
     "data": {
      "text/plain": [
       "True"
      ]
     },
     "execution_count": 25,
     "metadata": {},
     "output_type": "execute_result"
    }
   ],
   "source": [
    "sentence.__contains__('Maryland') # Magic method for checking if a substring is in string.\n",
    "# We will later use Pandas contains() function."
   ]
  },
  {
   "cell_type": "code",
   "execution_count": 26,
   "id": "9883f338",
   "metadata": {},
   "outputs": [
    {
     "data": {
      "text/plain": [
       "True"
      ]
     },
     "execution_count": 26,
     "metadata": {},
     "output_type": "execute_result"
    }
   ],
   "source": [
    "'Maryland'in sentence # In function checks if substring is in string."
   ]
  },
  {
   "cell_type": "code",
   "execution_count": 27,
   "id": "c00625f9",
   "metadata": {},
   "outputs": [
    {
     "data": {
      "text/plain": [
       "False"
      ]
     },
     "execution_count": 27,
     "metadata": {},
     "output_type": "execute_result"
    }
   ],
   "source": [
    "'Maryland' not in sentence # In function checks if substring is NOT in string."
   ]
  },
  {
   "cell_type": "code",
   "execution_count": 28,
   "id": "93f9384f",
   "metadata": {},
   "outputs": [
    {
     "data": {
      "text/plain": [
       "True"
      ]
     },
     "execution_count": 28,
     "metadata": {},
     "output_type": "execute_result"
    }
   ],
   "source": [
    "sentence.endswith('Grove') # Checks if the string ends with the specified substring.\n",
    "# This function is super useful to filter for file extensions in a list of filenames."
   ]
  },
  {
   "cell_type": "code",
   "execution_count": 31,
   "id": "c1fdad62",
   "metadata": {},
   "outputs": [
    {
     "data": {
      "text/plain": [
       "33"
      ]
     },
     "execution_count": 31,
     "metadata": {},
     "output_type": "execute_result"
    }
   ],
   "source": [
    "sentence.find('County') # Returns the index location of the first character. "
   ]
  },
  {
   "cell_type": "markdown",
   "id": "230c1336",
   "metadata": {},
   "source": [
    "# Regular Rexpressions (RegEx or Re)\n",
    "[Return to Table of Contents](#Table-of-Contents)\n",
    "\n",
    "Regular Expressions (RegEx) are text matching patterns described with a formal syntax. Can include a variety of rules, for finding repetition, text-matching, data-crawling, and file-naming and  more. As you advance in Python you'll see that a lot of your parsing problems can be solved with regular expressions. You can always use base Python functions instead, but RegExps often provide other advantages.\n",
    "\n",
    "Note that other strings method can be <b>FASTER</b> than RegEx functions. Benchmarking may help in deciding the best method and functions. Various functions within other libraries also accept use of regex symbols which we will explore as well.\n",
    "\n",
    "Documentation References:\n",
    "- [Re module - Documentation](https://docs.python.org/3/library/re.html)\n",
    "- [RE Cheatsheet](https://www.dataquest.io/cheat-sheet/regular-expressions-cheat-sheet/)"
   ]
  },
  {
   "cell_type": "code",
   "execution_count": 32,
   "id": "60e3bf9c",
   "metadata": {},
   "outputs": [],
   "source": [
    "import re # Importing the re library."
   ]
  },
  {
   "cell_type": "markdown",
   "id": "458d013d",
   "metadata": {},
   "source": [
    "# Re: Construction Basics\n",
    "[Return to Table of Contents](#Table-of-Contents)\n",
    "\n",
    "When constructing the regular expresion the following rules may apply:\n",
    "* Letters and numbers match themselves\n",
    "* Normally case sensitive\n",
    "* Watch out for punctuation as most of it has special meanings.\n",
    "\n",
    "#### Matching one of several alternatives\n",
    "Square brackets mean that any of the listed characters will do <br>\n",
    "* <code>[ab]</code> means either ”a” or ”b” <br>\n",
    "\n",
    "You can also give a range:\n",
    "* <code>[a-d]</code> means ”a” ”b” ”c” or ”d” <br>\n",
    "\n",
    "\n",
    "Negation: caret means ”not” <br>\n",
    "* <code>[^a-d]</code> # anything but a, b, c or d\n",
    "\n",
    "#### Wild cards\n",
    "* ”.” means ”any character”. For example <br>\n",
    "To match file names like ”hw3.pdf” and ”hw5.txt”: <br>\n",
    "<code> hw.\\.... </code> <br>\n",
    "\n",
    "\n",
    "* If you really mean ”.” you must use a backslash\n",
    "* Once again:\n",
    "  * Backslash is special in Python strings\n",
    "  * It’s special again in REs  \n",
    "\n",
    "\n",
    "* The dolar sign (<code>\\$</code>) Matches the end of the string or just before the newline at the end of the string, which is useful for example to work with certain filetypes. "
   ]
  },
  {
   "cell_type": "markdown",
   "id": "4e9c0719",
   "metadata": {},
   "source": [
    "#### Zero or more copies\n",
    "The asterisk (<code>*</code>) repeats the previous character 0 or more times\n",
    "* ”<code>ca*t</code>” matches ”ct”, ”cat”, ”caat”, ”caaat” etc. <br>\n",
    "\n",
    "The plus sign (<code>+</code>) repeats the previous character 1 or more times\n",
    "* ”<code>ca+t</code>” matches ”cat”, ”caat” etc. but not ”ct”\n",
    "\n",
    "#### Repeats\n",
    "* Braces are a more detailed way to indicate repeats\n",
    "* <code>A{1,3}</code> means at least one and no more than three A’s\n",
    "* <code>A{4,4}</code> means exactly four A’s"
   ]
  },
  {
   "cell_type": "markdown",
   "id": "87a4664e",
   "metadata": {},
   "source": [
    "# Re: Functions\n",
    "[Return to Table of Contents](#Table-of-Contents)\n",
    "\n",
    "#### Functions offered by a Match object:\n",
    "* <code>match()</code>–does it match the beginning of my string? Returns None or a match object\n",
    "* <code>search()</code>–does it match anywhere in my string? Returns None or a match object\n",
    "* <code>findall()</code>–does it match anywhere in my string? Returns a list of strings (or an empty list)\n",
    "  * Note that <code>findall()</code> does NOT return a Match object!\n",
    "* <code>group()</code>–return the string that matched\n",
    "  * <code>group()</code>–the whole string\n",
    "  * <code>group(1)</code>–the substring matching 1st parenthesized sub-pattern\n",
    "  * <code>group(1,3)</code>–tuple of substrings matching 1st and 3rd parenthesized\n",
    "* sub-patterns\n",
    "  * <code>start()</code>–return the starting position of the match\n",
    "  * <code>end()</code>–return the ending position of the match\n",
    "  * <code>span()</code>–return (start,end) as a tuple  "
   ]
  },
  {
   "cell_type": "markdown",
   "id": "ab25c00b",
   "metadata": {},
   "source": [
    "# Re: Character Classes\n",
    "[Return to Table of Contents](#Table-of-Contents)"
   ]
  },
  {
   "attachments": {
    "image.png": {
     "image/png": "[encoded data removed]"
    }
   },
   "cell_type": "markdown",
   "id": "e4b0daf3",
   "metadata": {},
   "source": [
    "![image.png](attachment:image.png)"
   ]
  },
  {
   "cell_type": "code",
   "execution_count": 33,
   "id": "b96e8750",
   "metadata": {},
   "outputs": [
    {
     "data": {
      "text/plain": [
       "'This contains two files, hw3.py and uppercase.py'"
      ]
     },
     "execution_count": 33,
     "metadata": {},
     "output_type": "execute_result"
    }
   ],
   "source": [
    "# EXAMPLE: Does this string contain a legal Python filename? \n",
    "\n",
    "mystring = 'This contains two files, hw3.py and uppercase.py.'\n",
    "# The .compile() function, compiles a regular expression pattern. Here defined as \"myrule\".\n",
    "myrule = re.compile(r\".+\\.py\") # Recall ”.” means any character, \"+\" repeats the previous character 1 or more times\n",
    "mymatch = myrule.search(mystring)\n",
    "mymatch.group()"
   ]
  },
  {
   "cell_type": "markdown",
   "id": "e202726e",
   "metadata": {},
   "source": [
    "Not what we expected! Why? <br>\n",
    "* Our RE matches ”hw3.py”\n",
    "* Unfortunately it also matches ”This contains two files, hw3.py”\n",
    "* And it even matches ”This contains two files, hw3.py and uppercase.py”\n",
    "* Python will choose the longest match\n",
    "* We could break my file into words first\n",
    "* Or we could specify that no spaces are allowed in my match"
   ]
  },
  {
   "cell_type": "code",
   "execution_count": 34,
   "id": "d4864c0c",
   "metadata": {},
   "outputs": [
    {
     "name": "stdout",
     "output_type": "stream",
     "text": [
      "<re.Match object; span=(25, 31), match='hw3.py'>\n"
     ]
    },
    {
     "data": {
      "text/plain": [
       "'hw3.py'"
      ]
     },
     "execution_count": 34,
     "metadata": {},
     "output_type": "execute_result"
    }
   ],
   "source": [
    "mystring = \"This contains two files, hw3.py and uppercase.py.\"\n",
    "# Recall [^a-b] # anything but a, b, c or d\n",
    "myrule = re.compile(r\"[^ ]+\\.py\") # In this case anything but space.\n",
    "mymatch = myrule.search(mystring) # Search finds the first item.\n",
    "print(mymatch)\n",
    "mymatch.group()"
   ]
  },
  {
   "cell_type": "code",
   "execution_count": 35,
   "id": "37f3e6dd",
   "metadata": {},
   "outputs": [
    {
     "data": {
      "text/plain": [
       "['hw3.py', 'uppercase.py']"
      ]
     },
     "execution_count": 35,
     "metadata": {},
     "output_type": "execute_result"
    }
   ],
   "source": [
    "allmymatches = myrule.findall(mystring) # Returns a list of all elements with .py in this case.\n",
    "allmymatches"
   ]
  },
  {
   "cell_type": "markdown",
   "id": "9f6dda98",
   "metadata": {},
   "source": [
    "# Re: Creating Objects\n",
    "[Return to Table of Contents](#Table-of-Contents)\n",
    "\n",
    "Let's say we would like to find phone number(s) in a document or a website"
   ]
  },
  {
   "cell_type": "code",
   "execution_count": 36,
   "id": "cbe9eaea",
   "metadata": {},
   "outputs": [],
   "source": [
    "# Compile a pattern to match a typical phone number, e.g. 410-455-1000\n",
    "pattern = re.compile('\\d\\d\\d-\\d\\d\\d-\\d\\d\\d\\d') # \\d is digit."
   ]
  },
  {
   "cell_type": "code",
   "execution_count": 37,
   "id": "458ce833",
   "metadata": {},
   "outputs": [],
   "source": [
    "ASentence = 'This is my phone number: 410-455-1000: call me!'\n",
    "## let's find the match\n",
    "mo = pattern.search(ASentence)"
   ]
  },
  {
   "cell_type": "markdown",
   "id": "4dbf374f",
   "metadata": {},
   "source": [
    "Let's find the index of the first and last characters"
   ]
  },
  {
   "cell_type": "code",
   "execution_count": 38,
   "id": "a39f9d09",
   "metadata": {},
   "outputs": [
    {
     "data": {
      "text/plain": [
       "<re.Match object; span=(25, 37), match='410-455-1000'>"
      ]
     },
     "execution_count": 38,
     "metadata": {},
     "output_type": "execute_result"
    }
   ],
   "source": [
    "mo # Gives all the data, including the span, and the match."
   ]
  },
  {
   "cell_type": "code",
   "execution_count": 39,
   "id": "84174f91",
   "metadata": {},
   "outputs": [
    {
     "data": {
      "text/plain": [
       "25"
      ]
     },
     "execution_count": 39,
     "metadata": {},
     "output_type": "execute_result"
    }
   ],
   "source": [
    "mo.start() # String character index at start of the match object."
   ]
  },
  {
   "cell_type": "code",
   "execution_count": 40,
   "id": "efb685b0",
   "metadata": {},
   "outputs": [
    {
     "data": {
      "text/plain": [
       "37"
      ]
     },
     "execution_count": 40,
     "metadata": {},
     "output_type": "execute_result"
    }
   ],
   "source": [
    "mo.end() # String character index at end of the match object."
   ]
  },
  {
   "cell_type": "code",
   "execution_count": 41,
   "id": "db4034e6",
   "metadata": {},
   "outputs": [
    {
     "data": {
      "text/plain": [
       "'410-455-1000'"
      ]
     },
     "execution_count": 41,
     "metadata": {},
     "output_type": "execute_result"
    }
   ],
   "source": [
    "ASentence[mo.start():mo.end()] # Selecting the string using the character location."
   ]
  },
  {
   "cell_type": "code",
   "execution_count": 42,
   "id": "fc736a34",
   "metadata": {},
   "outputs": [
    {
     "data": {
      "text/plain": [
       "'410-455-1000'"
      ]
     },
     "execution_count": 42,
     "metadata": {},
     "output_type": "execute_result"
    }
   ],
   "source": [
    "ASentence[25:37] # Same as above but specifying manually."
   ]
  },
  {
   "cell_type": "markdown",
   "id": "d9c317c0",
   "metadata": {},
   "source": [
    "# Re: Grouping - Use of \"()\"\n",
    "[Return to Table of Contents](#Table-of-Contents)"
   ]
  },
  {
   "cell_type": "code",
   "execution_count": 43,
   "id": "b5203098",
   "metadata": {},
   "outputs": [],
   "source": [
    "# Compile a pattern for 410-455-1000 so that we can separate the area code later on\n",
    "pattern = re.compile(r'(\\d\\d\\d)-\\d\\d\\d-\\d\\d\\d\\d')"
   ]
  },
  {
   "cell_type": "code",
   "execution_count": 44,
   "id": "63b23565",
   "metadata": {},
   "outputs": [
    {
     "data": {
      "text/plain": [
       "'410-455-1000'"
      ]
     },
     "execution_count": 44,
     "metadata": {},
     "output_type": "execute_result"
    }
   ],
   "source": [
    "# Search for a match\n",
    "BSentence = \"This is my phone number: 410-455-1000: call me!\"\n",
    "mo = pattern.search(BSentence)\n",
    "mo.group()"
   ]
  },
  {
   "cell_type": "code",
   "execution_count": 45,
   "id": "3f5b6caf",
   "metadata": {},
   "outputs": [
    {
     "data": {
      "text/plain": [
       "'410-455-1000'"
      ]
     },
     "execution_count": 45,
     "metadata": {},
     "output_type": "execute_result"
    }
   ],
   "source": [
    "## check group 0\n",
    "mo.group(0)"
   ]
  },
  {
   "cell_type": "code",
   "execution_count": 46,
   "id": "3bc576dd",
   "metadata": {},
   "outputs": [
    {
     "data": {
      "text/plain": [
       "'410'"
      ]
     },
     "execution_count": 46,
     "metadata": {},
     "output_type": "execute_result"
    }
   ],
   "source": [
    "## check group 1\n",
    "mo.group(1)"
   ]
  },
  {
   "cell_type": "code",
   "execution_count": 47,
   "id": "50c12715",
   "metadata": {},
   "outputs": [
    {
     "data": {
      "text/plain": [
       "'(410)-(455-1000)'"
      ]
     },
     "execution_count": 47,
     "metadata": {},
     "output_type": "execute_result"
    }
   ],
   "source": [
    "## note that \\(  is matching with exactly (\n",
    "pattern = re.compile(r'\\(\\d\\d\\d\\)-\\(\\d\\d\\d-\\d\\d\\d\\d\\)')\n",
    "mo = pattern.search('(410)-(455-1000)')\n",
    "mo.group()"
   ]
  },
  {
   "cell_type": "code",
   "execution_count": 48,
   "id": "6e8bb288",
   "metadata": {},
   "outputs": [
    {
     "data": {
      "text/plain": [
       "'(410)-(455-1000)'"
      ]
     },
     "execution_count": 48,
     "metadata": {},
     "output_type": "execute_result"
    }
   ],
   "source": [
    "mo.group(0)"
   ]
  },
  {
   "cell_type": "code",
   "execution_count": null,
   "id": "d0c6b168",
   "metadata": {},
   "outputs": [],
   "source": [
    "# Line below will give an error because we did exact matching. Uncomment and run.\n",
    "#mo.group(1)"
   ]
  },
  {
   "cell_type": "markdown",
   "id": "69d8a515",
   "metadata": {},
   "source": [
    "# Re: Matching Alternatives\n",
    "[Return to Table of Contents](#Table-of-Contents)\n",
    "\n",
    "<code> | </code > \n",
    "* <code>A|B</code>, where A and B can be arbitrary REs, creates a regular expression that will match either A or B. \n",
    "* An arbitrary number of REs can be separated by the '|' in this way. \n",
    "* This can be used inside groups (see below) as well. \n",
    "* As the target string is scanned, REs separated by '|' are tried from left to right. When one pattern completely matches, that branch is accepted. <b> This means that once A matches, B will not be tested further, even if it would produce a longer overall match. </b>"
   ]
  },
  {
   "cell_type": "code",
   "execution_count": 50,
   "id": "cb6413c5",
   "metadata": {},
   "outputs": [
    {
     "data": {
      "text/plain": [
       "'Maryland'"
      ]
     },
     "execution_count": 50,
     "metadata": {},
     "output_type": "execute_result"
    }
   ],
   "source": [
    "# Compile a regex for matching MD or Maryland\n",
    "pattern = re.compile(r'MD|Maryland')\n",
    "# Search for the match\n",
    "case1 = pattern.search(\"UMBC is in Maryland (MD)\")\n",
    "case1.group()"
   ]
  },
  {
   "cell_type": "code",
   "execution_count": 51,
   "id": "c9840e92",
   "metadata": {},
   "outputs": [
    {
     "data": {
      "text/plain": [
       "'MD'"
      ]
     },
     "execution_count": 51,
     "metadata": {},
     "output_type": "execute_result"
    }
   ],
   "source": [
    "case2 = pattern.search(\"UMBC is in MD, which is short for Maryland.\")\n",
    "case2.group()"
   ]
  },
  {
   "cell_type": "code",
   "execution_count": 52,
   "id": "127b491b",
   "metadata": {},
   "outputs": [
    {
     "data": {
      "text/plain": [
       "'152'"
      ]
     },
     "execution_count": 52,
     "metadata": {},
     "output_type": "execute_result"
    }
   ],
   "source": [
    "# Create a pattern that matches with 3 digit number or 4 digit number\n",
    "pattern = re.compile(r'\\d\\d\\d|\\d\\d\\d\\d')\n",
    "mo = pattern.search('1521-312-212414')\n",
    "mo.group()"
   ]
  },
  {
   "cell_type": "code",
   "execution_count": 53,
   "id": "8ec2a7dc",
   "metadata": {},
   "outputs": [
    {
     "data": {
      "text/plain": [
       "'1521'"
      ]
     },
     "execution_count": 53,
     "metadata": {},
     "output_type": "execute_result"
    }
   ],
   "source": [
    "# See the difference?\n",
    "pattern = re.compile(r'\\d\\d\\d\\d|\\d\\d\\d')\n",
    "mo = pattern.search('1521-312-212414')\n",
    "mo.group()"
   ]
  },
  {
   "cell_type": "markdown",
   "id": "2f9fd97e",
   "metadata": {},
   "source": [
    "__Matching Alternatives with Groups__"
   ]
  },
  {
   "cell_type": "code",
   "execution_count": 56,
   "id": "6e8fb824",
   "metadata": {},
   "outputs": [
    {
     "data": {
      "text/plain": [
       "['notebooks', 'notebook']"
      ]
     },
     "execution_count": 56,
     "metadata": {},
     "output_type": "execute_result"
    }
   ],
   "source": [
    "# Compile a regex for matching jupyter(notebooks|notebook|lab)\n",
    "pattern = re.compile(r'jupyter (notebooks|notebook|lab)')\n",
    "# Check for a match\n",
    "case1 = pattern.search('We use jupyter notebooks jupyter notebook lab')\n",
    "case1.group()"
   ]
  },
  {
   "cell_type": "code",
   "execution_count": 57,
   "id": "58398368",
   "metadata": {},
   "outputs": [
    {
     "data": {
      "text/plain": [
       "'jupyter lab'"
      ]
     },
     "execution_count": 57,
     "metadata": {},
     "output_type": "execute_result"
    }
   ],
   "source": [
    "case1 = pattern.search('We will have a jupyter lab. Where is my jupyter notebook?')\n",
    "case1.group()"
   ]
  },
  {
   "cell_type": "code",
   "execution_count": 63,
   "id": "407441a7-3d05-4d9f-8874-a5e28a33717a",
   "metadata": {},
   "outputs": [
    {
     "data": {
      "text/plain": [
       "['notebooks', 'lab']"
      ]
     },
     "execution_count": 63,
     "metadata": {},
     "output_type": "execute_result"
    }
   ],
   "source": [
    "# Find instances of jupyter notebook, jupyter notebooks or jupyter lab\n",
    "case3 = pattern.findall('We use jupyter notebooks jupyter lab notebook')\n",
    "case3"
   ]
  },
  {
   "cell_type": "markdown",
   "id": "563c2baf",
   "metadata": {},
   "source": [
    "# Re: Matching zero or one - Use of \"?\" symbol\n",
    "[Return to Table of Contents](#Table-of-Contents)\n",
    "\n",
    "Remember <code> ? </code> means either 0 or 1 repetition. If we write <code> X?Y </code>, then it will search for <code> XY</code> and <code> Y </code>. Let's benefit from this."
   ]
  },
  {
   "cell_type": "code",
   "execution_count": null,
   "id": "1835c763",
   "metadata": {},
   "outputs": [],
   "source": [
    "# Find the phone number which might be entered as XYZ-ASD-ZXCF or XYZASDZXCF or XYZ ASD ZXCF\n",
    "# What we need is a follows: \n",
    "# First look for three characters, then there might be a dash or space but maybe, we need to insert (-| )? in between.\n",
    "pattern = re.compile(r'\\d\\d\\d(-| )?\\d\\d\\d(-| )?\\d\\d\\d\\d')\n",
    "case1 = pattern.search('First, we write in this format 4104551000')\n",
    "case1.group()"
   ]
  },
  {
   "cell_type": "code",
   "execution_count": null,
   "id": "f3d75e5a",
   "metadata": {},
   "outputs": [],
   "source": [
    "case2 = pattern.search('Then, we write in this format 410-455-1000')\n",
    "case2.group()"
   ]
  },
  {
   "cell_type": "code",
   "execution_count": null,
   "id": "5c4a09d9",
   "metadata": {},
   "outputs": [],
   "source": [
    "case3 = pattern.search('Then, we write in this format 410 455 1000')\n",
    "case3.group()"
   ]
  },
  {
   "cell_type": "markdown",
   "id": "43f9c57f",
   "metadata": {},
   "source": [
    "Now let's compile a pattern that can match phone numbers with and without area codes, e.g. (410)-455-1000 or 455-1000. <br>\n"
   ]
  },
  {
   "cell_type": "code",
   "execution_count": null,
   "id": "63da5b0e",
   "metadata": {},
   "outputs": [],
   "source": [
    "pattern = re.compile(r'(\\(\\d\\d\\d\\)-)?(\\d\\d\\d-\\d\\d\\d\\d)')"
   ]
  },
  {
   "cell_type": "code",
   "execution_count": null,
   "id": "3fe872c8",
   "metadata": {},
   "outputs": [],
   "source": [
    "string1= '(410)-455-1000'\n",
    "string2 = '455-1000'\n",
    "string3 = '-455-1000'\n",
    "string4= '410-455-1000'\n",
    "\n",
    "mo = pattern.search(string1)\n",
    "mo.group()"
   ]
  },
  {
   "cell_type": "code",
   "execution_count": null,
   "id": "14f2ad12",
   "metadata": {},
   "outputs": [],
   "source": [
    "mo = pattern.search(string2)\n",
    "mo.group()"
   ]
  },
  {
   "cell_type": "code",
   "execution_count": null,
   "id": "047ce360",
   "metadata": {},
   "outputs": [],
   "source": [
    "mo = pattern.search(string3)\n",
    "mo.group()"
   ]
  },
  {
   "cell_type": "code",
   "execution_count": null,
   "id": "d65b8319",
   "metadata": {},
   "outputs": [],
   "source": [
    "mo = pattern.search(string4)\n",
    "mo.group()"
   ]
  },
  {
   "cell_type": "code",
   "execution_count": null,
   "id": "4de5715e",
   "metadata": {},
   "outputs": [],
   "source": [
    "# Note that ? catches at most one char\n",
    "pattern = re.compile(r'\\d-?\\d')\n",
    "\n",
    "mo = pattern.search('1-2')\n",
    "mo.group()"
   ]
  },
  {
   "cell_type": "code",
   "execution_count": null,
   "id": "49f2d1e7",
   "metadata": {},
   "outputs": [],
   "source": [
    "mo = pattern.search('1--2')\n",
    "# This will fail because of the double dash. Uncomment and run line below.\n",
    "#mo.group()"
   ]
  },
  {
   "cell_type": "code",
   "execution_count": null,
   "id": "d9eb5f06",
   "metadata": {},
   "outputs": [],
   "source": [
    "mo = pattern.search('1-24')\n",
    "mo.group()"
   ]
  },
  {
   "cell_type": "markdown",
   "id": "c34e1a5b",
   "metadata": {},
   "source": [
    "# Matching zero or more - Use of \"*\" symbol\n",
    "[Return to Table of Contents](#Table-of-Contents)\n",
    "\n",
    "Remember, The asterisk (<code>*</code>) repeats the previous character 0 or more times\n",
    "- ”<code>ca*t</code>” matches ”ct”, ”cat”, ”caat”, ”caaat” etc. <br>\n",
    "\n",
    "The plus sign (<code>+</code>) repeats the previous character 1 or more times\n",
    "- ”<code>ca+t</code>” matches ”cat”, ”caat” etc. but not ”ct”"
   ]
  },
  {
   "cell_type": "code",
   "execution_count": null,
   "id": "8c4d2c6d",
   "metadata": {},
   "outputs": [],
   "source": [
    "# Compile a pattern for mathing 410-455-1000\n",
    "string = '410-455-1000'"
   ]
  },
  {
   "cell_type": "code",
   "execution_count": null,
   "id": "91ec87a7",
   "metadata": {},
   "outputs": [],
   "source": [
    "# Match pattern with the Asterisk.\n",
    "pattern = re.compile(r'\\d*-\\d*-\\d*')"
   ]
  },
  {
   "cell_type": "code",
   "execution_count": null,
   "id": "626d7971",
   "metadata": {},
   "outputs": [],
   "source": [
    "mo = pattern.search(string)\n",
    "mo.group()"
   ]
  },
  {
   "cell_type": "code",
   "execution_count": null,
   "id": "954eeed3",
   "metadata": {},
   "outputs": [],
   "source": [
    "# Pattern.search(string) can be also written as re.search(pattern, string2), e.g.\n",
    "re.search(pattern, string).group()"
   ]
  },
  {
   "cell_type": "markdown",
   "id": "7958f388",
   "metadata": {},
   "source": [
    "<b>What migth go wrong here? </b>"
   ]
  },
  {
   "cell_type": "code",
   "execution_count": null,
   "id": "a052a411",
   "metadata": {},
   "outputs": [],
   "source": [
    "string2 = '41--10000000'\n",
    "pattern = re.compile(r'(\\d*)-(\\d*)-(\\d*)')\n",
    "mo = pattern.search(string2)\n",
    "mo.group()"
   ]
  },
  {
   "cell_type": "markdown",
   "id": "d9867418",
   "metadata": {},
   "source": [
    "Read the definition again: <b> 0 or more times </b>."
   ]
  },
  {
   "cell_type": "markdown",
   "id": "32e4910b",
   "metadata": {},
   "source": [
    "# Re: Match One or More\n",
    "[Return to Table of Contents](#Table-of-Contents)"
   ]
  },
  {
   "cell_type": "code",
   "execution_count": null,
   "id": "0551fb64",
   "metadata": {},
   "outputs": [],
   "source": [
    "## compile a pattern for mathing 410-455-1000\n",
    "pattern = re.compile(r'\\d+-\\d+-\\d+')"
   ]
  },
  {
   "cell_type": "code",
   "execution_count": null,
   "id": "863643be",
   "metadata": {},
   "outputs": [],
   "source": [
    "string = '410-455-1000'"
   ]
  },
  {
   "cell_type": "code",
   "execution_count": null,
   "id": "3303079d",
   "metadata": {},
   "outputs": [],
   "source": [
    "# Match the pattern\n",
    "mo = pattern.search(string)\n",
    "mo.group()"
   ]
  },
  {
   "cell_type": "code",
   "execution_count": null,
   "id": "2e8a5e67",
   "metadata": {},
   "outputs": [],
   "source": [
    "string2 = '41--10000000'\n",
    "mo2 = pattern.search(string2) "
   ]
  },
  {
   "cell_type": "code",
   "execution_count": null,
   "id": "ae08d4b5",
   "metadata": {},
   "outputs": [],
   "source": [
    "# This will fail because it won't find the pattern, uncomment and run\n",
    "#mo2.group()"
   ]
  },
  {
   "cell_type": "code",
   "execution_count": null,
   "id": "f5f2fd12",
   "metadata": {},
   "outputs": [],
   "source": [
    "# This returns nothing because there is no pattern.\n",
    "#mo2"
   ]
  },
  {
   "cell_type": "markdown",
   "id": "a48b6a0a",
   "metadata": {},
   "source": [
    "What might go wrong?"
   ]
  },
  {
   "cell_type": "code",
   "execution_count": null,
   "id": "afd7c1e6",
   "metadata": {},
   "outputs": [],
   "source": [
    "# Pattern.search(string) can be also written as re.search(pattern, string2)\n",
    "# Returns nothing as there is no pattern that meets the conditions.\n",
    "re.search(pattern, string2)"
   ]
  },
  {
   "cell_type": "code",
   "execution_count": null,
   "id": "b44a7df8",
   "metadata": {},
   "outputs": [],
   "source": [
    "# This will fail because it didn't find nothing hence there is no group.\n",
    "#re.search(pattern, string2).group()"
   ]
  },
  {
   "cell_type": "code",
   "execution_count": null,
   "id": "44378b4a",
   "metadata": {},
   "outputs": [],
   "source": [
    "# Another case: Try to find a case where this might not be an ideal pattern for phone number matching\n",
    "string3 = '100000000-1020202020202-102020202020202'\n",
    "re.search(pattern, string3)"
   ]
  },
  {
   "cell_type": "markdown",
   "id": "0dd38e90",
   "metadata": {},
   "source": [
    "Read the definition again: <b>one or more times. But we don't know how many more!! </b>. <br>"
   ]
  },
  {
   "cell_type": "markdown",
   "id": "628ad292",
   "metadata": {},
   "source": [
    "# Re: Matching a Fixed Amount of Repeats - use of \"{}\"\n",
    "[Return to Table of Contents](#Table-of-Contents)"
   ]
  },
  {
   "cell_type": "code",
   "execution_count": null,
   "id": "e2a51114",
   "metadata": {},
   "outputs": [],
   "source": [
    "# Compile a pattern for mathing 410-455-1000\n",
    "pattern = re.compile(r'\\d{3}-\\d{3}-\\d{4}') # Same as previously but specifying the number of digits."
   ]
  },
  {
   "cell_type": "code",
   "execution_count": null,
   "id": "ce1afa4a",
   "metadata": {},
   "outputs": [],
   "source": [
    "string2 = '410-455-1000'\n",
    "\n",
    "pattern = re.compile(r'(\\d*)-(\\d*)-(\\d*)')\n",
    "mo = pattern.search(string2)\n",
    "mo.group()"
   ]
  },
  {
   "cell_type": "code",
   "execution_count": null,
   "id": "c99d7da0",
   "metadata": {},
   "outputs": [],
   "source": [
    "string = '410-455-1000'\n",
    "pattern = re.compile(r'\\d{3}-\\d{3}-\\d{4}')\n",
    "re.search(pattern, string)"
   ]
  },
  {
   "cell_type": "code",
   "execution_count": null,
   "id": "a77337fc",
   "metadata": {},
   "outputs": [],
   "source": [
    "string2 = '1201212-121212-121'\n",
    "re.search(pattern, string2) # Retunrs nothing."
   ]
  },
  {
   "cell_type": "markdown",
   "id": "996601db",
   "metadata": {},
   "source": [
    "__Use of `{i, j}}`__"
   ]
  },
  {
   "cell_type": "code",
   "execution_count": null,
   "id": "f29c1aa5",
   "metadata": {},
   "outputs": [],
   "source": [
    "# Suppose each address in United States start with a number with 2 to 7 numbers\n",
    "# i.e. 10117 west street, Baltimore, MD or 13 Elm Street, Baltimore, MD\n",
    "\n",
    "# Compile a pattern that catches the street number\n",
    "pattern = re.compile(r'\\d{2,7}')"
   ]
  },
  {
   "cell_type": "code",
   "execution_count": null,
   "id": "39ca32cc",
   "metadata": {},
   "outputs": [],
   "source": [
    "umbc = \"1000 Hilltop Circle Baltimore, MD 21250\"\n",
    "re.search(pattern, umbc)"
   ]
  },
  {
   "cell_type": "code",
   "execution_count": null,
   "id": "8d315748",
   "metadata": {},
   "outputs": [],
   "source": [
    "location = '101 Independence Ave SE'"
   ]
  },
  {
   "cell_type": "code",
   "execution_count": null,
   "id": "31012d15",
   "metadata": {},
   "outputs": [],
   "source": [
    "re.search(pattern, location)"
   ]
  },
  {
   "cell_type": "markdown",
   "id": "6b3402c5",
   "metadata": {},
   "source": [
    "# Re: Matching Start/End - use of Caret and dollar symbols\n",
    "[Return to Table of Contents](#Table-of-Contents)\n",
    "\n",
    "- Use the caret symbol (^) at the start of a regex to indicate that a match must occur at the beginning of the searched text. \n",
    "- Use a dollar sign ($) at the end of the regex to indicate the string must end with this regex pattern."
   ]
  },
  {
   "cell_type": "code",
   "execution_count": null,
   "id": "e97c66ad",
   "metadata": {},
   "outputs": [],
   "source": [
    "# Let's take a look at 'hello world!\n",
    "beginsWithHello = re.compile(r'^Hello')\n",
    "beginsWithHello.search('Hello world!')#.group()"
   ]
  },
  {
   "cell_type": "code",
   "execution_count": null,
   "id": "1b30a11a",
   "metadata": {},
   "outputs": [],
   "source": [
    "# Note that there is no match in the following case\n",
    "beginsWithHello.search('He said Hello.') == None"
   ]
  },
  {
   "cell_type": "code",
   "execution_count": null,
   "id": "67042490",
   "metadata": {},
   "outputs": [],
   "source": [
    "# Similarly let's use $ symbol\n",
    "endsWithNumber = re.compile(r'\\d$')\n",
    "endsWithNumber.search('Your lucky number is 13') == None"
   ]
  },
  {
   "cell_type": "code",
   "execution_count": null,
   "id": "bf3784bb",
   "metadata": {},
   "outputs": [],
   "source": [
    "endsWithNumber.search('Your lucky number is 13')"
   ]
  },
  {
   "cell_type": "markdown",
   "id": "924e578e",
   "metadata": {},
   "source": [
    "# Re: Flags: Case Insensitive\n",
    "[Return to Table of Contents](#Table-of-Contents)"
   ]
  },
  {
   "cell_type": "code",
   "execution_count": 58,
   "id": "2e58c12d",
   "metadata": {},
   "outputs": [
    {
     "data": {
      "text/plain": [
       "'RoboCop'"
      ]
     },
     "execution_count": 58,
     "metadata": {},
     "output_type": "execute_result"
    }
   ],
   "source": [
    "# Note that we can also use flags to case-insensitive matches (re.I is case-insenstive.)\n",
    "robocop = re.compile(r'robocop', flags = re.I)\n",
    "robocop.search('RoboCop is part man, part machine, all cop.').group()"
   ]
  },
  {
   "cell_type": "markdown",
   "id": "ad593f86",
   "metadata": {},
   "source": [
    "# Re: Split Function\n",
    "[Return to Table of Contents](#Table-of-Contents)"
   ]
  },
  {
   "cell_type": "code",
   "execution_count": 59,
   "id": "2f41a7bf",
   "metadata": {},
   "outputs": [
    {
     "data": {
      "text/plain": [
       "['11', '29', '2021']"
      ]
     },
     "execution_count": 59,
     "metadata": {},
     "output_type": "execute_result"
    }
   ],
   "source": [
    "split_term = '/'\n",
    "\n",
    "phrase = '11/29/2021'\n",
    "\n",
    "# Split the phrase\n",
    "re.split(split_term, phrase)"
   ]
  },
  {
   "cell_type": "markdown",
   "id": "c945f474",
   "metadata": {},
   "source": [
    "# Re: Complex String\n",
    "[Return to Table of Contents](#Table-of-Contents)\n",
    "\n",
    "In this example we have a complex string with some letters and numbers. The letters and numbers follow a pattern and we want to extract the letter with its corresponding numbers as separate elements. "
   ]
  },
  {
   "cell_type": "code",
   "execution_count": 60,
   "id": "a3f6f971",
   "metadata": {},
   "outputs": [],
   "source": [
    "string_list = ['H41RW6574_Pulley_Lc11_G743_W550_Mode1',\n",
    "               'H435RW832_Curved_Lc12_G100_W575_Mode1',\n",
    "               'H243RW85_PulleyCurved_Lc13_G432_W600_Mode1']\n",
    "\n",
    "values_list = []\n",
    "\n",
    "# Iterates through each of the elements in the string_list\n",
    "for element in string_list:\n",
    "    values = {} # Defines initial blank dictionary for each element.\n",
    "    for string in element.split('_'): # Iterates through the splitted sub-elements.\n",
    "        matches = re.findall(r'(H|RW|Lc|G|W)(\\d+)', string) # Finds RW or Lc or G or W and following digits.\n",
    "        # For each match develop key values of the letter key and the number value\n",
    "        for match in matches:\n",
    "            key, value = match\n",
    "            values[key] = int(value)\n",
    "    values_list.append(values) # Append the match pairs add to the dictionary and then to the list of dictionaries."
   ]
  },
  {
   "cell_type": "code",
   "execution_count": 61,
   "id": "eae9fb3c",
   "metadata": {},
   "outputs": [
    {
     "data": {
      "text/plain": [
       "[{'H': 41, 'RW': 6574, 'Lc': 11, 'G': 743, 'W': 550},\n",
       " {'H': 435, 'RW': 832, 'Lc': 12, 'G': 100, 'W': 575},\n",
       " {'H': 243, 'RW': 85, 'Lc': 13, 'G': 432, 'W': 600}]"
      ]
     },
     "execution_count": 61,
     "metadata": {},
     "output_type": "execute_result"
    }
   ],
   "source": [
    "values_list"
   ]
  },
  {
   "cell_type": "markdown",
   "id": "48881b4b",
   "metadata": {},
   "source": [
    "# NOTEBOOK END"
   ]
  },
  {
   "cell_type": "code",
   "execution_count": null,
   "id": "b0f23fd7",
   "metadata": {},
   "outputs": [],
   "source": []
  },
  {
   "cell_type": "code",
   "execution_count": null,
   "id": "456173bb",
   "metadata": {},
   "outputs": [],
   "source": []
  },
  {
   "cell_type": "code",
   "execution_count": null,
   "id": "79d24c5b",
   "metadata": {},
   "outputs": [],
   "source": []
  }
 ],
 "metadata": {
  "kernelspec": {
   "display_name": "Python 3 (ipykernel)",
   "language": "python",
   "name": "python3"
  },
  "language_info": {
   "codemirror_mode": {
    "name": "ipython",
    "version": 3
   },
   "file_extension": ".py",
   "mimetype": "text/x-python",
   "name": "python",
   "nbconvert_exporter": "python",
   "pygments_lexer": "ipython3",
   "version": "3.13.5"
  }
 },
 "nbformat": 4,
 "nbformat_minor": 5
}
